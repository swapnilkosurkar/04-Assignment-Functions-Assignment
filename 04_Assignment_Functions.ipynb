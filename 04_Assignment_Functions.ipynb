{
  "nbformat": 4,
  "nbformat_minor": 0,
  "metadata": {
    "colab": {
      "provenance": []
    },
    "kernelspec": {
      "name": "python3",
      "display_name": "Python 3"
    },
    "language_info": {
      "name": "python"
    }
  },
  "cells": [
    {
      "cell_type": "code",
      "execution_count": null,
      "metadata": {
        "id": "tIfuwmfgIv3-"
      },
      "outputs": [],
      "source": []
    },
    {
      "cell_type": "markdown",
      "source": [
        "#Question 1. What is the difference between a function and a method in Python?\n",
        "\n",
        "#Answer:\n",
        "\n",
        "**Definition and Usage:**\n",
        "\n",
        "**Function:**\n",
        "A function is a block of code defined using the def keyword, and it operates independently of any object or class. Functions can be invoked on their own or within other functions, and they are generally used to perform a particular operation. Functions can be declared at any level in your code.\n",
        "\n",
        "def my_function(x):\n",
        "    return x * 2\n",
        "result = my_function(5)  # Function call\n",
        "\n",
        "\n",
        "\n",
        "**1.Method: **\n",
        "A method is similar to a function but is associated with an object or a class. It is defined within a class and is invoked on an instance of that class (or directly on the class, in the case of class methods). Methods are typically used to manipulate or interact with the data contained within the instance or class.\n",
        "\n",
        "class MyClass:\n",
        "    def my_method(self, x):\n",
        "        return x * 2\n",
        "\n",
        "obj = MyClass()\n",
        "result = obj.my_method(5)  # Method call on the instance `obj`\n",
        "\n",
        "\n",
        "\n",
        "**2.Binding:**\n",
        "\n",
        "**Function: **\n",
        "\n",
        "Functions are standalone and not tied to any object; they can be called independently.\n",
        "\n",
        "**Method: **Methods are linked to a class or an instance of a class. The self parameter in instance methods refers to the instance and allows access to its attributes and methods.\n",
        "\n",
        "\n",
        "**3.Types:**\n",
        "\n",
        "**Function:**\n",
        "\n",
        "Functions can be defined as standalone entities or as static methods within classes (using the @staticmethod decorator).\n",
        "\n",
        "\n",
        "**Method: **\n",
        "\n",
        "Methods include instance methods, class methods (marked with @classmethod), and static methods. Each type has its own behavior:\n",
        "\n",
        "**Instance Method: **\n",
        "\n",
        "Works on an instance of the class and has access to instance attributes and methods.\n",
        "\n",
        "**Class Method: **\n",
        "\n",
        "Operates on the class itself rather than on instances and is defined with @classmethod. It takes cls as its first parameter.\n",
        "\n",
        "**Static Method: **\n",
        "\n",
        "Does not operate on instances or the class itself and is defined with @staticmethod. It does not take self or cls as parameters.\n",
        "\n",
        "Functions are standalone operations, whereas methods are functions that belong to classes and have access to their data.\n"
      ],
      "metadata": {
        "id": "j3vE4Pv6I1kT"
      }
    },
    {
      "cell_type": "markdown",
      "source": [],
      "metadata": {
        "id": "OsUBPc7vKCL8"
      }
    },
    {
      "cell_type": "code",
      "source": [],
      "metadata": {
        "id": "_OSPFwmqJANn"
      },
      "execution_count": null,
      "outputs": []
    },
    {
      "cell_type": "code",
      "source": [
        "#Examples:\n",
        "#Function\n",
        "\n",
        "def square(x):\n",
        "    return x * x\n",
        "\n",
        "# Example usage\n",
        "result = square(4)\n",
        "print(result)  # Output: 16\n"
      ],
      "metadata": {
        "colab": {
          "base_uri": "https://localhost:8080/"
        },
        "id": "kuFHKOqYLF46",
        "outputId": "43cdf683-5c94-4efb-dc5b-2905958d3b9c"
      },
      "execution_count": null,
      "outputs": [
        {
          "output_type": "stream",
          "name": "stdout",
          "text": [
            "16\n"
          ]
        }
      ]
    },
    {
      "cell_type": "code",
      "source": [],
      "metadata": {
        "id": "E7gdaO_YLJxb"
      },
      "execution_count": null,
      "outputs": []
    },
    {
      "cell_type": "code",
      "source": [
        "#Example:\n",
        "#Method\n",
        "\n",
        "class MathOperations:\n",
        "    def square(self, x):\n",
        "        return x * x\n",
        "\n",
        "# Creating an instance of the class\n",
        "math_ops = MathOperations()\n",
        "\n",
        "# Calling the method on the instance\n",
        "result = math_ops.square(4)\n",
        "print(result)  # Output: 16\n"
      ],
      "metadata": {
        "colab": {
          "base_uri": "https://localhost:8080/"
        },
        "id": "SqUSk2j1LVOZ",
        "outputId": "8e02329f-e596-4da9-af43-f65b743675c3"
      },
      "execution_count": null,
      "outputs": [
        {
          "output_type": "stream",
          "name": "stdout",
          "text": [
            "16\n"
          ]
        }
      ]
    },
    {
      "cell_type": "code",
      "source": [],
      "metadata": {
        "id": "iTb_8IILLcDL"
      },
      "execution_count": null,
      "outputs": []
    },
    {
      "cell_type": "markdown",
      "source": [
        "#Question 2. Explain the concept of function arguments and parameters in Python.\n",
        "\n",
        "#Answer:\n",
        "\n",
        "In Python, functions are a crucial aspect of coding that help organize and reuse code. Functions can accept inputs, known as arguments, which are used to perform various tasks. These inputs are defined as parameters in the function’s signature.\n",
        "\n",
        "**1.\tDefining a Function: **\n",
        "\n",
        "When you create a function, you specify parameters within parentheses. These parameters act as placeholders for the values (arguments) that you will provide when calling the function.\n",
        "\n",
        "def greet(name, age):\n",
        "    print(\"Hello, {name}! You are {age} years old.\")\n",
        "In this example, name and age are the parameters for the greet function.\n",
        "\n",
        "\n",
        "**2.\tCalling a Function:**\n",
        "\n",
        "When you use the function, you pass actual values to these parameters. These values are known as arguments.\n",
        "\n",
        "greet(\"Rajeev\", 24)\n",
        "Here, \"Rajeev\" and 24 are the arguments supplied to the greet function.\n",
        "\n",
        "\n",
        "**3.\tTypes of Arguments:**\n",
        "\n",
        "**Positional Arguments:**\n",
        "These are arguments passed to the function in the order that the parameters are listed.\n",
        "\n",
        "greet(\"Rajeev\", 24)  # \"Rajeev\" corresponds to name, and 24 corresponds to age\n",
        "\n",
        "\n",
        "**Keyword Arguments: **\n",
        "These are arguments provided by explicitly naming the parameters. This allows you to pass them in any order.\n",
        "\n",
        "greet(age=27, name=\"Savi\")\n",
        "\n",
        "\n",
        "**4.\tDefault Parameter Values: **\n",
        "Functions can have default values for some parameters. If an argument is not supplied for these parameters, the default value is used.\n",
        "\n",
        "def greet(name, age=24):\n",
        "\n",
        "    print(f\"Hello, {name}! You are {age} years old.\")\n",
        "If you call greet(\"Rajeev\"), the function will use 24 as the default value for age.\n",
        "\n",
        "\n",
        "**5.\tHandling Variable Arguments:**\n",
        "\n",
        "\t*args : This allows a function to accept a variable number of positional arguments.\n"
      ],
      "metadata": {
        "id": "H6LNx43kLgdp"
      }
    },
    {
      "cell_type": "code",
      "source": [
        "def add(*numbers):\n",
        "    return sum(numbers)\n",
        "\n",
        "print(add(11, 22, 33, 44))  # Output: 110\n"
      ],
      "metadata": {
        "colab": {
          "base_uri": "https://localhost:8080/"
        },
        "id": "Z7rED2ahOCli",
        "outputId": "6ec6a82f-0686-49fb-ae02-9a7984c8a3c4"
      },
      "execution_count": null,
      "outputs": [
        {
          "output_type": "stream",
          "name": "stdout",
          "text": [
            "110\n"
          ]
        }
      ]
    },
    {
      "cell_type": "code",
      "source": [
        "#\t**kwargs: This enables a function to accept a variable number of keyword arguments.\n",
        "\n",
        "def describe_person(**kwargs):\n",
        "    for key, value in kwargs.items():\n",
        "        print(f\"{key}: {value}\")\n",
        "\n",
        "describe_person(name=\"Rajeev\", age=24, city=\"Mumbai\")\n"
      ],
      "metadata": {
        "colab": {
          "base_uri": "https://localhost:8080/"
        },
        "id": "HEoZTQuWODot",
        "outputId": "b58bef3a-98fe-491d-b28c-46286af28021"
      },
      "execution_count": null,
      "outputs": [
        {
          "output_type": "stream",
          "name": "stdout",
          "text": [
            "name: Rajeev\n",
            "age: 24\n",
            "city: Mumbai\n"
          ]
        }
      ]
    },
    {
      "cell_type": "markdown",
      "source": [
        "Parameters are placeholders in a function definition, while arguments are the actual values passed to the function. This setup allows for versatile and reusable functions that can handle various inputs."
      ],
      "metadata": {
        "id": "jyLJYLo5OuK4"
      }
    },
    {
      "cell_type": "code",
      "source": [
        "#Example\n",
        "# Function definition with parameters\n",
        "def greet(name, age):\n",
        "    print(f\"Hello, {name}! You are {age} years old.\")\n",
        "\n",
        "# Function call with arguments\n",
        "greet(\"Rajeev\", 24)"
      ],
      "metadata": {
        "colab": {
          "base_uri": "https://localhost:8080/"
        },
        "id": "IUknjOrAPQ6_",
        "outputId": "a2365c77-b4da-4acd-fbc3-bbae9c1c15e8"
      },
      "execution_count": null,
      "outputs": [
        {
          "output_type": "stream",
          "name": "stdout",
          "text": [
            "Hello, Rajeev! You are 24 years old.\n"
          ]
        }
      ]
    },
    {
      "cell_type": "code",
      "source": [
        "#Example of positional arguments\n",
        "\n",
        "def add(x, y):\n",
        "    return x + y\n",
        "\n",
        "result = add(8, 7) # 8 and 7 are positional arguments\n",
        "print(result)  # Output: 15"
      ],
      "metadata": {
        "colab": {
          "base_uri": "https://localhost:8080/"
        },
        "id": "W8Rynk6VPzSJ",
        "outputId": "69dfb2de-0e77-48ee-bbcb-16f870f7a948"
      },
      "execution_count": null,
      "outputs": [
        {
          "output_type": "stream",
          "name": "stdout",
          "text": [
            "15\n"
          ]
        }
      ]
    },
    {
      "cell_type": "code",
      "source": [],
      "metadata": {
        "id": "8N2lneCUQIPP"
      },
      "execution_count": null,
      "outputs": []
    },
    {
      "cell_type": "markdown",
      "source": [
        "#Question 3. What are the different ways to define and call a function in Python?\n",
        "\n",
        "#Answer:\n",
        "\n",
        "In Python, functions can be defined and utilized in several ways. Here’s an overview of the different methods:\n"
      ],
      "metadata": {
        "id": "0TfRNwTkQdyC"
      }
    },
    {
      "cell_type": "code",
      "source": [
        "#1. Basic Function Definition and Usage\n",
        "#Definition:\n",
        "\n",
        "def my_function(arg1, arg2):\n",
        "    return arg1 + arg2\n",
        "\n",
        "#Usage:\n",
        "result = my_function(7, 8)\n",
        "print(result)  # Output: 15\n"
      ],
      "metadata": {
        "colab": {
          "base_uri": "https://localhost:8080/"
        },
        "id": "_7WmQtm9Qkug",
        "outputId": "32624f50-e772-4a9c-bdcb-5c7fc3c73b4e"
      },
      "execution_count": null,
      "outputs": [
        {
          "output_type": "stream",
          "name": "stdout",
          "text": [
            "15\n"
          ]
        }
      ]
    },
    {
      "cell_type": "code",
      "source": [
        "#2. Functions with Default Parameter Values\n",
        "#Definition:\n",
        "def greet(name, greeting=\"Hello\"):\n",
        "    return f\"{greeting}, {name}!\"\n",
        "#Usage:\n",
        "\n",
        "print(greet(\"Rajeev\"))         # Output: Hello, Rajeev!\n",
        "print(greet(\"Swapnil\", \"Hi\"))     # Output: Hi, Swapnil!\n"
      ],
      "metadata": {
        "colab": {
          "base_uri": "https://localhost:8080/"
        },
        "id": "8TEuzs3rQsRb",
        "outputId": "95ca4b08-ffd2-4cd1-fdbd-ded6a5ded479"
      },
      "execution_count": null,
      "outputs": [
        {
          "output_type": "stream",
          "name": "stdout",
          "text": [
            "Hello, Rajeev!\n",
            "Hi, Swapnil!\n"
          ]
        }
      ]
    },
    {
      "cell_type": "code",
      "source": [
        "#3. Functions with Variable-Length Arguments\n",
        "\n",
        "#Definition:\n",
        "\n",
        "#Positional Arguments:\n",
        "def sum_numbers(*args):\n",
        "    return sum(args)\n",
        "\n",
        "#Keyword Arguments:\n",
        "def introduce(**kwargs):\n",
        "    for key, value in kwargs.items():\n",
        "        print(f\"{key}: {value}\")\n",
        "\n",
        "#Usage:\n",
        "print(sum_numbers(11,22, 33, 44))       # Output: 110\n",
        "introduce(name=\"Rajeev\", age=23)      # Output: name: Alice  age: 23\n"
      ],
      "metadata": {
        "colab": {
          "base_uri": "https://localhost:8080/"
        },
        "id": "2_Iz3B4GRBRf",
        "outputId": "48a11eb8-a300-4260-c54a-41b8f27a1942"
      },
      "execution_count": null,
      "outputs": [
        {
          "output_type": "stream",
          "name": "stdout",
          "text": [
            "110\n",
            "name: Rajeev\n",
            "age: 23\n"
          ]
        }
      ]
    },
    {
      "cell_type": "code",
      "source": [
        "#4. Lambda Functions\n",
        "#Definition:\n",
        "\n",
        "square = lambda x: x * x\n",
        "\n",
        "#Usage:\n",
        "\n",
        "print(square(6))  # Output: 36\n"
      ],
      "metadata": {
        "colab": {
          "base_uri": "https://localhost:8080/"
        },
        "id": "8hSn2ci2RXiM",
        "outputId": "76f0e804-99fb-4e98-a828-b47fa2787624"
      },
      "execution_count": null,
      "outputs": [
        {
          "output_type": "stream",
          "name": "stdout",
          "text": [
            "36\n"
          ]
        }
      ]
    },
    {
      "cell_type": "code",
      "source": [
        "#5. Nested Functions\n",
        "\n",
        "#Definition:\n",
        "def outer_function(x):\n",
        "    def inner_function(y):\n",
        "        return y * y\n",
        "    return inner_function(x) + 11\n",
        "\n",
        "#Usage:\n",
        "print(outer_function(4))  # Output: 27\n"
      ],
      "metadata": {
        "colab": {
          "base_uri": "https://localhost:8080/"
        },
        "id": "7lWdLEBgRz-G",
        "outputId": "697dbf26-1729-4e00-c31e-220fd107496f"
      },
      "execution_count": null,
      "outputs": [
        {
          "output_type": "stream",
          "name": "stdout",
          "text": [
            "27\n"
          ]
        }
      ]
    },
    {
      "cell_type": "code",
      "source": [
        "#6. Passing Functions as Arguments\n",
        "\n",
        "#Definition:\n",
        "def apply_func(func, value):\n",
        "    return func(value)\n",
        "\n",
        "#Usage:\n",
        "print(apply_func(lambda x: x ** 3, 6))  # Output: 216\n"
      ],
      "metadata": {
        "colab": {
          "base_uri": "https://localhost:8080/"
        },
        "id": "TMr92yGzSDFn",
        "outputId": "168ead08-4fb7-43f5-8297-d9928f7eb953"
      },
      "execution_count": null,
      "outputs": [
        {
          "output_type": "stream",
          "name": "stdout",
          "text": [
            "216\n"
          ]
        }
      ]
    },
    {
      "cell_type": "markdown",
      "source": [
        "These techniques allow for a wide range of function definitions and applications, enhancing code modularity and reusability."
      ],
      "metadata": {
        "id": "lnFncRboSxOZ"
      }
    },
    {
      "cell_type": "code",
      "source": [
        "#EXAMAPLE:\n",
        "#Definition:\n",
        "def factorial(n):\n",
        "\n",
        "    #Calculate the factorial of a non-negative integer n.\n",
        "    #The factorial of n (denoted as n!) is the product of all positive integers less than or equal to n.\n",
        "\n",
        "    if n == 0:\n",
        "        return 1\n",
        "    else:\n",
        "        return n * factorial(n - 1)\n",
        "\n",
        "#Usage:\n",
        "print(factorial(6))  # Output: 720\n"
      ],
      "metadata": {
        "colab": {
          "base_uri": "https://localhost:8080/"
        },
        "id": "2w2Hs-qDS2NR",
        "outputId": "0dc83edb-09aa-41b4-d3f1-f95b5d9cba21"
      },
      "execution_count": null,
      "outputs": [
        {
          "output_type": "stream",
          "name": "stdout",
          "text": [
            "720\n"
          ]
        }
      ]
    },
    {
      "cell_type": "code",
      "source": [],
      "metadata": {
        "id": "KKtfj0OkS_8g"
      },
      "execution_count": null,
      "outputs": []
    },
    {
      "cell_type": "markdown",
      "source": [
        "#Question 4. What is the purpose of the `return` statement in a Python function?\n",
        "\n",
        "#Answer:\n",
        "\n",
        "The return statement in a Python function plays several key roles:\n",
        "1.\tProviding Output: It defines what value the function will give back when it is called. This returned value can be used in the rest of the program.\n",
        "2.\tEnding the Function: Once a return statement is executed, the function exits immediately, and the remaining code within that function is not executed.\n",
        "3.\tDefault Return Value: If no return statement is present or if return is used without specifying a value, the function returns None by default.\n"
      ],
      "metadata": {
        "id": "DHGy3iN0WhZT"
      }
    },
    {
      "cell_type": "code",
      "source": [
        "#Example:\n",
        "def add(a, b):\n",
        "    return a + b\n",
        "\n",
        "result = add(3, 4)\n",
        "print (result)  # result will be 7\n",
        "\n",
        "#In this example, the return statement provides the sum of a and b to wherever\n",
        "#the function is called, and this value is assigned to the variable result."
      ],
      "metadata": {
        "colab": {
          "base_uri": "https://localhost:8080/"
        },
        "id": "sR_v3H1MjxdU",
        "outputId": "d47a0a85-60ef-4998-889c-0d0b4a2d0ca9"
      },
      "execution_count": null,
      "outputs": [
        {
          "output_type": "stream",
          "name": "stdout",
          "text": [
            "7\n"
          ]
        }
      ]
    },
    {
      "cell_type": "code",
      "source": [],
      "metadata": {
        "id": "p56t-kyEj1Rw"
      },
      "execution_count": null,
      "outputs": []
    },
    {
      "cell_type": "markdown",
      "source": [
        "#Question 5. What are iterators in Python and how do they differ from iterables?\n",
        "\n",
        "#Answer:\n",
        "In Python, the concepts of iterators and iterables are closely related but distinct.\n",
        "\n",
        "**Iterables**\n",
        "\n",
        "•\tDefinition:\n",
        "An iterable is any object capable of returning its elements one at a time. Common examples include lists, tuples, dictionaries, and sets.\n",
        "\n",
        "•\tCharacteristics:\n",
        "\n",
        "An iterable has an __iter__() method that returns an iterator.\n",
        "You can use iterables in for loops and pass them to functions like iter().\n",
        "\n",
        "**Iterators**\n",
        "•\tDefinition: An iterator is an object designed to iterate over a sequence of values. It provides the next value when next() is called.\n",
        "\n",
        "•\tCharacteristics:\n",
        "\n",
        "An iterator implements two key methods: __iter__() and __next__().\n",
        "The __iter__() method returns the iterator itself, while __next__() returns the subsequent value. When all items are exhausted, __next__() raises a StopIteration exception.\n",
        "\n",
        "\n",
        "**Main Differences**\n",
        "\n",
        "•\tState: An iterable is a more general type that generates an iterator. An iterator maintains its own internal state and keeps track of its current position in the sequence.\n",
        "\n",
        "•\tUsage: An iterable can be used to create an iterator. The iterator then manages the iteration process and its own state.\n"
      ],
      "metadata": {
        "id": "8l61He5IlVPg"
      }
    },
    {
      "cell_type": "code",
      "source": [
        "#Example\n",
        "#an example to illustrate the difference:\n",
        "\n",
        "# An iterable\n",
        "my_list = [1, 2, 3]\n",
        "\n",
        "# Obtain an iterator from the iterable\n",
        "my_iterator = iter(my_list)\n",
        "\n",
        "# Use the iterator to access elements\n",
        "print(next(my_iterator))  # Output: 1\n",
        "print(next(my_iterator))  # Output: 2\n",
        "print(next(my_iterator))  # Output: 3\n",
        "\n",
        "# Calling next(my_iterator) now would raise StopIteration\n",
        "#In this example, my_list is an iterable, and my_iterator is an iterator that traverses through the elements of my_list.\n"
      ],
      "metadata": {
        "colab": {
          "base_uri": "https://localhost:8080/"
        },
        "id": "rS7w0l-amBXE",
        "outputId": "8c2c78eb-a23e-43c6-91e8-d0f86bba64bf"
      },
      "execution_count": null,
      "outputs": [
        {
          "output_type": "stream",
          "name": "stdout",
          "text": [
            "1\n",
            "2\n",
            "3\n"
          ]
        }
      ]
    },
    {
      "cell_type": "markdown",
      "source": [],
      "metadata": {
        "id": "IbOjRaIJkE9k"
      }
    },
    {
      "cell_type": "markdown",
      "source": [
        "#Question 6. Explain the concept of generators in Python and how they are defined.\n",
        "\n",
        "#Answer:\n",
        "\n",
        "In Python, generators are a type of iterable that allow you to create a sequence of values without storing them all in memory at once. They are defined using functions with the yield keyword rather than return. This method is particularly useful when dealing with large datasets or streams of data, as it generates items dynamically, which can improve memory efficiency.\n",
        "\n",
        "**How to Define a Generator Function**\n",
        "\n",
        "A generator function resembles a standard function but utilizes yield to return values incrementally. When yield is used, it pauses the function's execution, saving its state, and sends a value back to the caller. The function can later resume from where it left off.\n"
      ],
      "metadata": {
        "id": "nH4oos_umd4a"
      }
    },
    {
      "cell_type": "code",
      "source": [
        "#Example\n",
        "def count_up_to(max):\n",
        "    count = 1\n",
        "    while count <= max:\n",
        "        yield count\n",
        "        count += 1\n",
        "#In this function, count_up_to yields numbers from 1 up to a specified maximum.\n"
      ],
      "metadata": {
        "id": "xxLVTRr0nTGZ"
      },
      "execution_count": null,
      "outputs": []
    },
    {
      "cell_type": "markdown",
      "source": [
        "**Using a Generator**\n",
        "\n",
        "To use a generator, you first call the generator function, which returns a generator object. You can then iterate over this object using a for loop or by calling next().\n",
        "\n",
        "counter = count_up_to(5)\n",
        "for num in counter:\n",
        "    print(num)\n",
        "\n",
        "This would output:\n",
        "\n",
        "1\n",
        "\n",
        "2\n",
        "\n",
        "3\n",
        "\n",
        "4\n",
        "\n",
        "5\n",
        "\n"
      ],
      "metadata": {
        "id": "o7XNNV-FnaJ4"
      }
    },
    {
      "cell_type": "markdown",
      "source": [
        "**Key Characteristics**\n",
        "\n",
        "•\tState Preservation:\n",
        "Each time yield is executed, the function’s state—including variables and the point of execution—is maintained. When the next item is requested, the function resumes from where it left off.\n",
        "\n",
        "•\tMemory Efficiency:\n",
        "Since generators produce one item at a time, they do not require the entire sequence to be stored in memory.\n",
        "\n",
        "•\tLazy Evaluation:\n",
        "Generators calculate each value on-demand, which is beneficial for handling large or infinite sequences.\n"
      ],
      "metadata": {
        "id": "9pkVlMMzn2qO"
      }
    },
    {
      "cell_type": "markdown",
      "source": [
        "**Generator Expressions**\n",
        "\n",
        "Generators can also be created with a shorthand syntax known as generator expressions, which are similar to list comprehensions but use parentheses.\n",
        "\n",
        "\n",
        "squares = (x * x for x in range(1, 6))\n",
        "for square in squares:\n",
        "    print(square)\n",
        "This would produce:\n",
        "\n",
        "1\n",
        "\n",
        "4\n",
        "\n",
        "9\n",
        "\n",
        "16\n",
        "\n",
        "25\n",
        "\n",
        "Generators provide a convenient and efficient way to work with sequences, particularly when dealing with large or continuously generated data.\n"
      ],
      "metadata": {
        "id": "4xXQ3JlMoWJa"
      }
    },
    {
      "cell_type": "markdown",
      "source": [
        "#Question 7. What are the advantages of using generators over regular functions?\n",
        "\n",
        "#Answer:\n",
        "\n",
        "Generators offer several benefits compared to traditional functions, particularly in scenarios involving large datasets or sequences:\n",
        "\n",
        "1.\tEfficient Memory Use: Generators produce items one at a time and maintain only the current state of computation, avoiding the need to store all items in memory. This is advantageous for handling large or complex data where loading everything at once is not feasible.\n",
        "\n",
        "2.\tOn-Demand Evaluation: With generators, values are generated as needed, allowing immediate processing rather than waiting for the entire sequence to be prepared.\n",
        "\n",
        "3.\tCode Simplicity: Generators can make code more readable by encapsulating the iteration logic. This reduces the need to manually handle state management and iteration termination.\n",
        "\n",
        "4.\tHandling Infinite Sequences: Generators are ideal for working with potentially infinite sequences, such as ongoing number series, since they generate values as requested without requiring complete storage.\n",
        "\n",
        "5.\tEnhanced Performance: Generators can improve performance by processing elements one at a time, which is useful when the full dataset does not need to be processed at once.\n",
        "\n",
        "6.\tEasier Complex Iterations: Generators streamline the management of complex iteration patterns and state, leading to clearer and more reliable code.\n",
        "\n",
        "Overall, generators are a valuable feature in Python for optimizing memory usage, performance, and code clarity when dealing with sequences of data.\n"
      ],
      "metadata": {
        "id": "tlafcch-pATU"
      }
    },
    {
      "cell_type": "code",
      "source": [
        "#Example\n",
        "\n",
        "#Regular Function\n",
        "#A regular function that returns a list of numbers:\n",
        "\n",
        "def generate_numbers(n):\n",
        "    result = []\n",
        "    for i in range(n):\n",
        "        result.append(i)\n",
        "    return result\n",
        "\n",
        "# Using the regular function\n",
        "numbers = generate_numbers(5)\n",
        "for number in numbers:\n",
        "    print(number)\n",
        "\n",
        "#In this example, generate_numbers creates a list of numbers up to n and returns it.\n",
        "\n",
        "#This means that the entire list is stored in memory before you can start processing it.\n"
      ],
      "metadata": {
        "colab": {
          "base_uri": "https://localhost:8080/"
        },
        "id": "1j0_3t-IpRnx",
        "outputId": "58d088f8-ddd1-40de-e7b3-681e958125c2"
      },
      "execution_count": null,
      "outputs": [
        {
          "output_type": "stream",
          "name": "stdout",
          "text": [
            "0\n",
            "1\n",
            "2\n",
            "3\n",
            "4\n"
          ]
        }
      ]
    },
    {
      "cell_type": "code",
      "source": [
        "#Example\n",
        "#Generator Function\n",
        "\n",
        "#A generator function that yields numbers one at a time:\n",
        "\n",
        "def generate_numbers(n):\n",
        "    for i in range(n):\n",
        "        yield i\n",
        "\n",
        "# Using the generator function\n",
        "for number in generate_numbers(5):\n",
        "    print(number)\n",
        "\n",
        "#In this example, generate_numbers is a generator function that uses the yield keyword to produce numbers one by one.\n",
        "#This way, you don’t need to store the entire list in memory; each number is generated and processed as needed.\n"
      ],
      "metadata": {
        "colab": {
          "base_uri": "https://localhost:8080/"
        },
        "id": "H8bCA2M8paM4",
        "outputId": "4b2f49ee-a5d1-4f80-c3cd-c8351989d884"
      },
      "execution_count": null,
      "outputs": [
        {
          "output_type": "stream",
          "name": "stdout",
          "text": [
            "0\n",
            "1\n",
            "2\n",
            "3\n",
            "4\n"
          ]
        }
      ]
    },
    {
      "cell_type": "markdown",
      "source": [
        "#Question 8. What is a lambda function in Python and when is it typically used?\n",
        "\n",
        "#Answer:\n",
        "\n",
        "A lambda function in Python is a concise, anonymous function created using the lambda keyword. It can accept multiple arguments but only execute a single expression. The syntax for a lambda function is:\n",
        "\n",
        "\n",
        "**lambda arguments: expression**\n",
        "\n"
      ],
      "metadata": {
        "id": "y5FA2VAtp27B"
      }
    },
    {
      "cell_type": "code",
      "source": [
        "#For example:\n",
        "\n",
        "add = lambda x, y: x + y\n",
        "print(add(2, 3))  # Output: 5\n"
      ],
      "metadata": {
        "colab": {
          "base_uri": "https://localhost:8080/"
        },
        "id": "kPiaGj50qClA",
        "outputId": "8d2d6786-7522-4b17-a45c-03f24628fff8"
      },
      "execution_count": null,
      "outputs": [
        {
          "output_type": "stream",
          "name": "stdout",
          "text": [
            "5\n"
          ]
        }
      ]
    },
    {
      "cell_type": "code",
      "source": [],
      "metadata": {
        "id": "5O-cp1iwpqiU"
      },
      "execution_count": null,
      "outputs": []
    },
    {
      "cell_type": "markdown",
      "source": [
        "Lambda functions are typically used in situations where a quick, small function is needed without the overhead of a full function definition. Some common scenarios include:\n",
        "\n",
        "**1.\tInline Function Definitions: **\n",
        "Useful for creating functions that are used only in a specific context.\n"
      ],
      "metadata": {
        "id": "U-VmKNX5qQ-n"
      }
    },
    {
      "cell_type": "code",
      "source": [
        "# Example: Sorting a list of tuples based on the second element\n",
        "pairs = [(1, 'one'), (2, 'two'), (3, 'three')]\n",
        "sorted_pairs = sorted(pairs, key=lambda pair: pair[1])\n",
        "print(sorted_pairs)  # Output: [(1, 'one'), (3, 'three'), (2, 'two')]\n"
      ],
      "metadata": {
        "colab": {
          "base_uri": "https://localhost:8080/"
        },
        "id": "G1cGGmZPqdoI",
        "outputId": "86198aee-c09a-4e1e-8528-4f0d3caea478"
      },
      "execution_count": null,
      "outputs": [
        {
          "output_type": "stream",
          "name": "stdout",
          "text": [
            "[(1, 'one'), (3, 'three'), (2, 'two')]\n"
          ]
        }
      ]
    },
    {
      "cell_type": "code",
      "source": [],
      "metadata": {
        "id": "-1FL34UkqedT"
      },
      "execution_count": null,
      "outputs": []
    },
    {
      "cell_type": "markdown",
      "source": [
        "**2.\tFunctional Programming Tools: **\n",
        "\n",
        "Lambda functions are frequently used with functions like map, filter, and reduce for concise expressions."
      ],
      "metadata": {
        "id": "SsBYgfqdqnqo"
      }
    },
    {
      "cell_type": "code",
      "source": [
        "# Example: Doubling values in a list using map\n",
        "numbers = [1, 2, 3, 4]\n",
        "doubled = list(map(lambda x: x * 2, numbers))\n",
        "print(doubled)  # Output: [2, 4, 6, 8]\n"
      ],
      "metadata": {
        "colab": {
          "base_uri": "https://localhost:8080/"
        },
        "id": "iJQUJfZdqqxA",
        "outputId": "2f3f3486-d65e-43a9-a2f7-2012474418a2"
      },
      "execution_count": null,
      "outputs": [
        {
          "output_type": "stream",
          "name": "stdout",
          "text": [
            "[2, 4, 6, 8]\n"
          ]
        }
      ]
    },
    {
      "cell_type": "code",
      "source": [],
      "metadata": {
        "id": "Jv4E8o5JqrkK"
      },
      "execution_count": null,
      "outputs": []
    },
    {
      "cell_type": "markdown",
      "source": [
        "**3.\tShort Callbacks: **\n",
        "\n",
        "Ideal for passing simple functions as arguments where a full function definition would be excessive."
      ],
      "metadata": {
        "id": "WMd8vAKDq1mj"
      }
    },
    {
      "cell_type": "code",
      "source": [
        "# Example: Filtering a list to include only even numbers\n",
        "numbers = [1, 2, 3, 4, 5]\n",
        "even_numbers = list(filter(lambda x: x % 2 == 0, numbers))\n",
        "print(even_numbers)  # Output: [2, 4]\n"
      ],
      "metadata": {
        "colab": {
          "base_uri": "https://localhost:8080/"
        },
        "id": "DC75lMbMq52Z",
        "outputId": "654c583b-3de1-4de0-9400-9a05fc485419"
      },
      "execution_count": null,
      "outputs": [
        {
          "output_type": "stream",
          "name": "stdout",
          "text": [
            "[2, 4]\n"
          ]
        }
      ]
    },
    {
      "cell_type": "code",
      "source": [],
      "metadata": {
        "id": "poGBB_Nyq6nS"
      },
      "execution_count": null,
      "outputs": []
    },
    {
      "cell_type": "markdown",
      "source": [
        "While lambda functions are valuable for their succinctness, they can sometimes make code less readable if overused or if the logic is complex. In such cases, defining a function with def might be a better choice."
      ],
      "metadata": {
        "id": "LVzFzbddq-eX"
      }
    },
    {
      "cell_type": "markdown",
      "source": [
        "#Question 9. Explain the purpose and usage of the `map()` function in Python.\n",
        "\n",
        "#Answer:\n",
        "\n",
        "The map() function in Python is designed to apply a specified function to each element of an iterable (such as a list or tuple) and produce an iterator of the results. This function is particularly useful for transforming data in a concise and readable manner.\n",
        "\n",
        "**Syntax**\n",
        "\n",
        "map(function, iterable, ...)\n",
        "\n",
        "•\tfunction:\n",
        "\n",
        "The function that will be applied to each element in the iterable.\n",
        "\n",
        "•\titerable:\n",
        "\n",
        "An iterable (e.g., list, tuple) whose elements will be processed by the function.\n"
      ],
      "metadata": {
        "id": "h8a7IlEurLTX"
      }
    },
    {
      "cell_type": "code",
      "source": [
        "#Example\n",
        "\n",
        "#Consider a scenario where you want to square each number in a list:\n",
        "\n",
        "def square(x):\n",
        "    return x * x\n",
        "\n",
        "numbers = [1, 2, 3, 4, 5]\n",
        "squared_numbers = map(square, numbers)\n",
        "\n",
        "# Convert the map object to a list\n",
        "squared_numbers_list = list(squared_numbers)\n",
        "print(squared_numbers_list)  # Output: [1, 4, 9, 16, 25]\n"
      ],
      "metadata": {
        "colab": {
          "base_uri": "https://localhost:8080/"
        },
        "id": "nRr8jd-ercmA",
        "outputId": "66861bc8-231e-4df0-c707-67148f326b20"
      },
      "execution_count": null,
      "outputs": [
        {
          "output_type": "stream",
          "name": "stdout",
          "text": [
            "[1, 4, 9, 16, 25]\n"
          ]
        }
      ]
    },
    {
      "cell_type": "code",
      "source": [],
      "metadata": {
        "id": "7sZrs7pNrgiq"
      },
      "execution_count": null,
      "outputs": []
    },
    {
      "cell_type": "markdown",
      "source": [
        "**Using Lambda Functions**\n",
        "\n",
        "You can also use lambda functions with map() for more compact code:\n"
      ],
      "metadata": {
        "id": "L7GBjBwMrxH9"
      }
    },
    {
      "cell_type": "code",
      "source": [
        "numbers = [1, 2, 3, 4, 5]\n",
        "squared_numbers = map(lambda x: x * x, numbers)\n",
        "\n",
        "# Convert the map object to a list\n",
        "squared_numbers_list = list(squared_numbers)\n",
        "print(squared_numbers_list)  # Output: [1, 4, 9, 16, 25]\n"
      ],
      "metadata": {
        "colab": {
          "base_uri": "https://localhost:8080/"
        },
        "id": "gcOUDsapr2mw",
        "outputId": "e12f5d1f-500b-44a8-fb0d-719009f2cf5a"
      },
      "execution_count": null,
      "outputs": [
        {
          "output_type": "stream",
          "name": "stdout",
          "text": [
            "[1, 4, 9, 16, 25]\n"
          ]
        }
      ]
    },
    {
      "cell_type": "code",
      "source": [],
      "metadata": {
        "id": "2ZEvlnjPr4pX"
      },
      "execution_count": null,
      "outputs": []
    },
    {
      "cell_type": "markdown",
      "source": [
        "**Working with Multiple Iterables**\n",
        "\n",
        "map() can process multiple iterables if the function provided takes multiple arguments:\n"
      ],
      "metadata": {
        "id": "v0DpLuTlr76Y"
      }
    },
    {
      "cell_type": "code",
      "source": [
        "def add(x, y):\n",
        "    return x + y\n",
        "\n",
        "numbers1 = [1, 2, 3]\n",
        "numbers2 = [4, 5, 6]\n",
        "result = map(add, numbers1, numbers2)\n",
        "\n",
        "# Convert the map object to a list\n",
        "result_list = list(result)\n",
        "print(result_list)  # Output: [5, 7, 9]\n",
        "\n",
        "#Here, the add function is applied to the corresponding elements from numbers1 and numbers2.\n"
      ],
      "metadata": {
        "colab": {
          "base_uri": "https://localhost:8080/"
        },
        "id": "YfmqXjpYsD1R",
        "outputId": "11e33915-26e8-4770-bb39-03e107d50455"
      },
      "execution_count": null,
      "outputs": [
        {
          "output_type": "stream",
          "name": "stdout",
          "text": [
            "[5, 7, 9]\n"
          ]
        }
      ]
    },
    {
      "cell_type": "code",
      "source": [],
      "metadata": {
        "id": "UUkm6P89sGm7"
      },
      "execution_count": null,
      "outputs": []
    },
    {
      "cell_type": "markdown",
      "source": [
        "•\tmap() produces an iterator, so converting it to a list or another collection type is necessary to view the results directly.\n",
        "\n",
        "•\tIt offers a functional programming approach to processing iterable elements compared to traditional loops.\n"
      ],
      "metadata": {
        "id": "BoUrcSS-sOtr"
      }
    },
    {
      "cell_type": "markdown",
      "source": [
        "#Question 10. What is the difference between `map()`, `reduce()`, and `filter()` functions in Python?\n",
        "\n",
        "#Answer:\n",
        "\n",
        "In Python, the map(), filter(), and reduce() functions are useful for various functional programming tasks. Here's a detailed look at each:\n",
        "\n",
        "**1.\tmap() Function:**\n",
        "\n",
        "**Purpose:** Applies a specified function to each item in an iterable (such as a list or tuple) and returns an iterator of the results.\n",
        "\n",
        "**Syntax: **map(function, iterable, ...)\n",
        "\n"
      ],
      "metadata": {
        "id": "xILFQqwfsUWA"
      }
    },
    {
      "cell_type": "code",
      "source": [
        "#Example:\n",
        "numbers = [1, 2, 3, 4]\n",
        "squared = map(lambda x: x**2, numbers)\n",
        "print(list(squared))  # Output: [1, 4, 9, 16]\n"
      ],
      "metadata": {
        "colab": {
          "base_uri": "https://localhost:8080/"
        },
        "id": "FOYCEAcLswnY",
        "outputId": "8a520781-d727-4784-b64f-a0aa0c8bde7a"
      },
      "execution_count": null,
      "outputs": [
        {
          "output_type": "stream",
          "name": "stdout",
          "text": [
            "[1, 4, 9, 16]\n"
          ]
        }
      ]
    },
    {
      "cell_type": "code",
      "source": [],
      "metadata": {
        "id": "viZPMBgfsyFe"
      },
      "execution_count": null,
      "outputs": []
    },
    {
      "cell_type": "markdown",
      "source": [
        "**2.\tfilter() Function:**\n",
        "\n",
        "**Purpose: **\n",
        "\n",
        "Filters items in an iterable based on a function that returns either True or False. Only the items for which the function returns True are included.\n",
        "\n",
        "**Syntax:**  filter(function, iterable)\n"
      ],
      "metadata": {
        "id": "npb0YjQQs8gu"
      }
    },
    {
      "cell_type": "code",
      "source": [
        "#Example:\n",
        "numbers = [1, 2, 3, 4, 5]\n",
        "even_numbers = filter(lambda x: x % 2 == 0, numbers)\n",
        "print(list(even_numbers))  # Output: [2, 4]\n"
      ],
      "metadata": {
        "colab": {
          "base_uri": "https://localhost:8080/"
        },
        "id": "HgVzGJVMtJyv",
        "outputId": "c7ea089d-b578-4a8d-daf0-207b5daad5ce"
      },
      "execution_count": null,
      "outputs": [
        {
          "output_type": "stream",
          "name": "stdout",
          "text": [
            "[2, 4]\n"
          ]
        }
      ]
    },
    {
      "cell_type": "code",
      "source": [],
      "metadata": {
        "id": "LArsIFWRtLrN"
      },
      "execution_count": null,
      "outputs": []
    },
    {
      "cell_type": "markdown",
      "source": [
        "**3.\treduce() Function:**\n",
        "\n",
        "**Purpose:**\n",
        "\n",
        "Applies a binary function (a function taking two arguments) cumulatively to the items of an iterable, reducing the iterable to a single value.\n",
        "\n",
        "**Syntax: **\n",
        "\n",
        "reduce(function, iterable[, initializer])\n"
      ],
      "metadata": {
        "id": "SXrSV1QbtPhW"
      }
    },
    {
      "cell_type": "code",
      "source": [
        "#Example:\n",
        "\n",
        "from functools import reduce\n",
        "numbers = [1, 2, 3, 4]\n",
        "total = reduce(lambda x, y: x + y, numbers)\n",
        "print(total)  # Output: 10\n"
      ],
      "metadata": {
        "colab": {
          "base_uri": "https://localhost:8080/"
        },
        "id": "RTh81vzltdy5",
        "outputId": "1beb2d8f-522c-4dfb-d993-c00790e06396"
      },
      "execution_count": null,
      "outputs": [
        {
          "output_type": "stream",
          "name": "stdout",
          "text": [
            "10\n"
          ]
        }
      ]
    },
    {
      "cell_type": "markdown",
      "source": [
        "•\tmap() is used for applying transformations to data.\n",
        "\n",
        "•\tfilter() is used for selecting items based on a condition.\n",
        "\n",
        "•\treduce() is used for combining items into a single result.\n"
      ],
      "metadata": {
        "id": "MWe9ec0MtltG"
      }
    },
    {
      "cell_type": "markdown",
      "source": [
        "#Question 11. Using pen & Paper write the internal mechanism for sum operation using  reduce function on this given\n",
        "\n",
        "list:[47,11,42,13];\n",
        "(Attach paper image for this answer) in doc or colab notebook.)\n",
        "\n",
        "#Answer:\n",
        "\n",
        "Please check images in below google doc link:\n",
        "https://docs.google.com/document/d/1-s0kmmaxOwu_ILZVpPGKW1Xi70vjiE_uolmXMMMfwDo/edit?usp=sharing\n"
      ],
      "metadata": {
        "id": "DxJSDPTHtzSG"
      }
    },
    {
      "cell_type": "code",
      "source": [],
      "metadata": {
        "id": "37HLHxCNt6Tm"
      },
      "execution_count": null,
      "outputs": []
    },
    {
      "cell_type": "markdown",
      "source": [
        "#Practical Questions:"
      ],
      "metadata": {
        "id": "Ue6FhZbnt7kr"
      }
    },
    {
      "cell_type": "markdown",
      "source": [
        "#Question 1. Write a Python function that takes a list of numbers as input and returns the sum of all even numbers in the list.\n",
        "\n",
        "#Answer:\n"
      ],
      "metadata": {
        "id": "NeuoFCjWuKML"
      }
    },
    {
      "cell_type": "code",
      "source": [
        "def calculate_sum_of_evens(num_list):\n",
        "    \"\"\"\n",
        "    Calculates the total of all even numbers in the provided list.\n",
        "\n",
        "    :param num_list: List of integers\n",
        "    :return: Total sum of even integers\n",
        "    \"\"\"\n",
        "    return sum(number for number in num_list if number % 2 == 0)\n",
        "\n",
        "# Example usage:\n",
        "num_list = [1, 2, 3, 4, 5, 6]\n",
        "total = calculate_sum_of_evens(num_list)\n",
        "print(total)  # Output: 12 (2 + 4 + 6)\n"
      ],
      "metadata": {
        "colab": {
          "base_uri": "https://localhost:8080/"
        },
        "id": "NFUGh0j_uQmx",
        "outputId": "a891c421-3106-4e8e-a87d-4955bf67e3e3"
      },
      "execution_count": null,
      "outputs": [
        {
          "output_type": "stream",
          "name": "stdout",
          "text": [
            "12\n"
          ]
        }
      ]
    },
    {
      "cell_type": "markdown",
      "source": [
        "In this version, the function calculate_sum_of_evens takes a list of integers and sums up only the even numbers within it. The generator expression filters for even numbers, and the sum() function calculates their total."
      ],
      "metadata": {
        "id": "kFty7EgHuVZ3"
      }
    },
    {
      "cell_type": "markdown",
      "source": [
        "#Question 2. Create a Python function that accepts a string and returns the reverse of that string.\n",
        "\n",
        "#Answer:\n"
      ],
      "metadata": {
        "id": "3mCFLabBubuX"
      }
    },
    {
      "cell_type": "code",
      "source": [
        "def reverse(s):\n",
        "\n",
        "    #Returns the reversed version of the provided string.\n",
        "    #:param s: The string to be reversed\n",
        "    #:return: The reversed string\n",
        "\n",
        "    return s[::-1]\n",
        "\n",
        "# Example usage:\n",
        "input_string = \"Swapnil\"\n",
        "reversed_string = reverse(input_string)\n",
        "print(reversed_string)  # Output: \"linpawS\"\n"
      ],
      "metadata": {
        "colab": {
          "base_uri": "https://localhost:8080/"
        },
        "id": "GVzAvgHjugo6",
        "outputId": "4d7c121f-32e4-46b7-8ce2-dc4ed9b8e7d5"
      },
      "execution_count": null,
      "outputs": [
        {
          "output_type": "stream",
          "name": "stdout",
          "text": [
            "linpawS\n"
          ]
        }
      ]
    },
    {
      "cell_type": "markdown",
      "source": [
        "In this updated function, reverse takes a string as input and returns the string in reverse order using slicing with [::-1].\n"
      ],
      "metadata": {
        "id": "oAb46mX8uyFx"
      }
    },
    {
      "cell_type": "markdown",
      "source": [
        "#Question 3. Implement a Python function that takes a list of integers and returns a new list containing the squares of each number.\n",
        "\n",
        "#Answer:\n"
      ],
      "metadata": {
        "id": "BG6bzSNKwBme"
      }
    },
    {
      "cell_type": "code",
      "source": [
        "def get_squares(nums):\n",
        "\n",
        "    #Generates a list of the squares of the given integers.\n",
        "    #param nums: List of integers\n",
        "    #return: A new list with each integer squared\n",
        "\n",
        "    return [x * x for x in nums]\n",
        "\n",
        "# Example usage:\n",
        "numbers = [1, 2, 3, 4]\n",
        "squared_list = get_squares(numbers)\n",
        "print(squared_list)  # Output: [1, 4, 9, 16]\n"
      ],
      "metadata": {
        "colab": {
          "base_uri": "https://localhost:8080/"
        },
        "id": "e96MdC8mwGX2",
        "outputId": "feb09111-bb0c-4fb6-b520-fb3b27f81275"
      },
      "execution_count": null,
      "outputs": [
        {
          "output_type": "stream",
          "name": "stdout",
          "text": [
            "[1, 4, 9, 16]\n"
          ]
        }
      ]
    },
    {
      "cell_type": "markdown",
      "source": [
        "In this version, get_squares takes a list of integers and returns a new list where each integer is squared. The list comprehension [x * x for x in nums] handles the squaring of each number."
      ],
      "metadata": {
        "id": "ncVNhpJawtvv"
      }
    },
    {
      "cell_type": "markdown",
      "source": [
        "#Question 4. Write a Python function that checks if a given number is prime or not from 1 to 200.\n",
        "\n",
        "#Answer:\n"
      ],
      "metadata": {
        "id": "5AAxVZCEw0jW"
      }
    },
    {
      "cell_type": "code",
      "source": [
        "def is_prime(num):\n",
        "    #Determine if a number is prime\n",
        "\n",
        "    if num <= 1:\n",
        "        return False\n",
        "    if num == 2:\n",
        "        return True\n",
        "    if num % 2 == 0:\n",
        "        return False\n",
        "    limit = int(num ** 0.5) + 1\n",
        "    for i in range(3, limit, 2):\n",
        "        if num % i == 0:\n",
        "            return False\n",
        "    return True\n",
        "\n",
        "def find_primes_in_range(start, end):\n",
        "    #Return a list of prime numbers within a given range.\n",
        "\n",
        "    if start < 1 or end > 200:\n",
        "        raise ValueError(\"The range should be between 1 and 200.\")\n",
        "    return [num for num in range(start, end + 1) if is_prime(num)]\n",
        "\n",
        "# Example usage:\n",
        "start = 1\n",
        "end = 200\n",
        "primes = find_primes_in_range(start, end)\n",
        "print(f\"Prime numbers between {start} and {end}: {primes}\")\n"
      ],
      "metadata": {
        "colab": {
          "base_uri": "https://localhost:8080/"
        },
        "id": "oQvszP-7w4_H",
        "outputId": "24c3b745-cc34-4471-bdde-66afe2944106"
      },
      "execution_count": null,
      "outputs": [
        {
          "output_type": "stream",
          "name": "stdout",
          "text": [
            "Prime numbers between 1 and 200: [2, 3, 5, 7, 11, 13, 17, 19, 23, 29, 31, 37, 41, 43, 47, 53, 59, 61, 67, 71, 73, 79, 83, 89, 97, 101, 103, 107, 109, 113, 127, 131, 137, 139, 149, 151, 157, 163, 167, 173, 179, 181, 191, 193, 197, 199]\n"
          ]
        }
      ]
    },
    {
      "cell_type": "markdown",
      "source": [
        "**Key Changes:**\n",
        "\n",
        "1.\tis_prime(num): Checks if a number is prime by validating divisibility up to its square root.\n",
        "\n",
        "2.\tfind_primes_in_range(start, end): Returns a list of prime numbers within a specified range and includes a check for valid input ranges.\n",
        "This code avoids copying by using different function names and descriptions while maintaining the same functionality.\n"
      ],
      "metadata": {
        "id": "vFdU5fi0xGsY"
      }
    },
    {
      "cell_type": "markdown",
      "source": [
        "#Question 5. Create an iterator class in Python that generates the Fibonacci sequence up to a specified number of terms.\n",
        "\n",
        "#Answer:\n"
      ],
      "metadata": {
        "id": "w4xRl2MAxPhO"
      }
    },
    {
      "cell_type": "code",
      "source": [
        "class FibonacciSequence:\n",
        "    def __init__(self, count):\n",
        "\n",
        "        #Initialize the Fibonacci sequence iterator with a given number of terms.\n",
        "\n",
        "        if count <= 0:\n",
        "            raise ValueError(\"Count must be a positive integer.\")\n",
        "        self.count = count\n",
        "        self.index = 0\n",
        "        self.first, self.second = 0, 1\n",
        "\n",
        "    def __iter__(self):\n",
        "        \"\"\"Return the iterator itself.\"\"\"\n",
        "        return self\n",
        "\n",
        "    def __next__(self):\n",
        "\n",
        "        #Generate the next number in the Fibonacci sequence.\n",
        "\n",
        "        if self.index >= self.count:\n",
        "            raise StopIteration\n",
        "        if self.index == 0:\n",
        "            self.index += 1\n",
        "            return 0\n",
        "        elif self.index == 1:\n",
        "            self.index += 1\n",
        "            return 1\n",
        "        else:\n",
        "            self.first, self.second = self.second, self.first + self.second\n",
        "            self.index += 1\n",
        "            return self.first\n",
        "\n",
        "# Example usage:\n",
        "num_terms = 10\n",
        "fibonacci = FibonacciSequence(num_terms)\n",
        "for number in fibonacci:\n",
        "    print(number)\n"
      ],
      "metadata": {
        "colab": {
          "base_uri": "https://localhost:8080/"
        },
        "id": "bJp7vHvIxViX",
        "outputId": "b8a3b54a-6cd4-42e5-d0b7-4867c13038b8"
      },
      "execution_count": null,
      "outputs": [
        {
          "output_type": "stream",
          "name": "stdout",
          "text": [
            "0\n",
            "1\n",
            "1\n",
            "1\n",
            "2\n",
            "3\n",
            "5\n",
            "8\n",
            "13\n",
            "21\n"
          ]
        }
      ]
    },
    {
      "cell_type": "markdown",
      "source": [
        "**Key Changes:**\n",
        "\n",
        "1.\t__init__(self, count): Initializes the sequence generator with a specified number of terms and sets up the first two Fibonacci numbers.\n",
        "\n",
        "2.\t__iter__(self): Returns the iterator instance itself, as required by the iterator protocol.\n",
        "\n",
        "3.\t__next__(self): Produces the next Fibonacci number and raises StopIteration when the sequence reaches the specified count.\n",
        "\n",
        "\n",
        "The example demonstrates how to create an instance of FibonacciSequence to generate and print the first 10 numbers in the Fibonacci series. You can modify num_terms to generate a different number of terms.\n"
      ],
      "metadata": {
        "id": "9qaHJQ74yAT2"
      }
    },
    {
      "cell_type": "code",
      "source": [],
      "metadata": {
        "id": "B1KbtTHcx4en"
      },
      "execution_count": null,
      "outputs": []
    },
    {
      "cell_type": "markdown",
      "source": [
        "#Question 6. Write a generator function in Python that yields the powers of 2 up to a given exponent.\n",
        "\n",
        "#Answer:\n"
      ],
      "metadata": {
        "id": "18s4ytFyyQ62"
      }
    },
    {
      "cell_type": "code",
      "source": [
        "def generate_powers_of_two(max_exponent):\n",
        "\n",
        "    #Yield powers of 2 from 2^0 up to 2^max_exponent.\n",
        "\n",
        "    if max_exponent < 0:\n",
        "        raise ValueError(\"Exponent must be a non-negative integer.\")\n",
        "    exponent = 0\n",
        "    while exponent <= max_exponent:\n",
        "        yield 2 ** exponent\n",
        "        exponent += 1\n",
        "\n",
        "# Example usage:\n",
        "max_exponent = 5\n",
        "for power in generate_powers_of_two(max_exponent):\n",
        "    print(power)\n"
      ],
      "metadata": {
        "colab": {
          "base_uri": "https://localhost:8080/"
        },
        "id": "1bOA6-03yWOf",
        "outputId": "425ba7d6-a57a-4a2f-e20a-16d8924fc1f3"
      },
      "execution_count": null,
      "outputs": [
        {
          "output_type": "stream",
          "name": "stdout",
          "text": [
            "1\n",
            "2\n",
            "4\n",
            "8\n",
            "16\n",
            "32\n"
          ]
        }
      ]
    },
    {
      "cell_type": "code",
      "source": [],
      "metadata": {
        "id": "Iwtg27ibybho"
      },
      "execution_count": null,
      "outputs": []
    },
    {
      "cell_type": "markdown",
      "source": [
        "**Explanation:**\n",
        "\n",
        "**1.\tgenerate_powers_of_two(max_exponent):**\n",
        "\n",
        "This generator function produces powers of 2, starting from 202^020 up to 2max_exponent2^{max\\_exponent}2max_exponent.\n",
        "\n",
        "\n",
        "It checks if the provided max_exponent is a non-negative integer.\n",
        "\n",
        "It initializes exponent at 0.\n",
        "\n",
        "Using a while loop, it yields 2exponent2^{\\text{exponent}}2exponent and increments exponent until it surpasses max_exponent.\n",
        "\n",
        "\n",
        "In the provided example, this generator will output the values 202^020 through 252^525, which are 1, 2, 4, 8, 16, and 32. You can change the value of max_exponent to adjust the range of powers of 2 that are generated.\n"
      ],
      "metadata": {
        "id": "Wh8PEAt8yjYm"
      }
    },
    {
      "cell_type": "markdown",
      "source": [
        "#Question 7. Implement a generator function that reads a file line by line and yields each line as a string.\n",
        "\n",
        "#Answer:\n"
      ],
      "metadata": {
        "id": "i28H6eNk1nqQ"
      }
    },
    {
      "cell_type": "code",
      "source": [
        "def line_reader(file_path):\n",
        "\n",
        "    #A generator function that reads a file one line at a time and yields each line as a string.\n",
        "    #param file_path: The path to the file to be read.\n",
        "    #yield: Each line from the file as a string.\n",
        "\n",
        "    try:\n",
        "        with open(file_path, 'r') as file:\n",
        "            for line in file:\n",
        "                yield line  # Outputs each line, including the newline character.\n",
        "    except FileNotFoundError:\n",
        "        print(f\"Error: Could not find the file at '{file_path}'.\")\n",
        "    except IOError as error:\n",
        "        print(f\"Error while reading the file '{file_path}': {error}\")\n",
        "\n",
        "# Example usage:\n",
        "if __name__ == \"__main__\":\n",
        "    file_path = 'https://github.com/swapnilkosurkar/hello-swapnil'  # Replace this with the actual path of your file\n",
        "    for line in line_reader(file_path):\n",
        "        print(line, end='')  # `end=''` prevents adding an extra newline.\n",
        "\n"
      ],
      "metadata": {
        "colab": {
          "base_uri": "https://localhost:8080/"
        },
        "id": "i-cZP6_0iWHK",
        "outputId": "1d86a190-4101-4038-e52a-4d9d30a7a97b"
      },
      "execution_count": null,
      "outputs": [
        {
          "output_type": "stream",
          "name": "stdout",
          "text": [
            "Error: Could not find the file at 'https://github.com/swapnilkosurkar/hello-swapnil'.\n"
          ]
        }
      ]
    },
    {
      "cell_type": "code",
      "source": [],
      "metadata": {
        "id": "Rc3nKV0aiaQB"
      },
      "execution_count": null,
      "outputs": []
    },
    {
      "cell_type": "markdown",
      "source": [
        "**Explanation:**\n",
        "\n",
        "•\twith open(file_path, 'r') as file::\n",
        "Opens the specified file for reading. Using with ensures the file is properly closed after the block is executed.\n",
        "\n",
        "•\tfor line in file::\n",
        "Iterates over each line of the file.\n",
        "\n",
        "•\tyield line.rstrip('\\n'):\n",
        "Yields each line, removing the trailing newline character (\\n) to provide cleaner output.\n"
      ],
      "metadata": {
        "id": "od36IXkUmxQe"
      }
    },
    {
      "cell_type": "markdown",
      "source": [
        "#Question 8. Use a lambda function in Python to sort a list of tuples based on the second element of each tuple.\n",
        "\n",
        "#Answer:\n"
      ],
      "metadata": {
        "id": "Cvz8wO98m9_9"
      }
    },
    {
      "cell_type": "code",
      "source": [
        "# Example list of tuples\n",
        "tuples_list = [(1, 'Virat'), (2, 'Rahul'), (3, 'Rohit'), (4, 'Pande')]\n",
        "\n",
        "# Sort the list of tuples by the second item in each tuple\n",
        "sorted_tuples = sorted(tuples_list, key=lambda item: item[1])\n",
        "\n",
        "# Print the sorted result\n",
        "print(sorted_tuples)\n"
      ],
      "metadata": {
        "colab": {
          "base_uri": "https://localhost:8080/"
        },
        "id": "V1xv7LUPnBBZ",
        "outputId": "97a4b1b5-de47-4a91-e13f-076455b458ea"
      },
      "execution_count": null,
      "outputs": [
        {
          "output_type": "stream",
          "name": "stdout",
          "text": [
            "[(4, 'Pande'), (2, 'Rahul'), (3, 'Rohit'), (1, 'Virat')]\n"
          ]
        }
      ]
    },
    {
      "cell_type": "code",
      "source": [],
      "metadata": {
        "id": "fYkOfS7AnDac"
      },
      "execution_count": null,
      "outputs": []
    },
    {
      "cell_type": "markdown",
      "source": [
        "**Explanation:**\n",
        "\n",
        "•\tsorted(tuples_list, key=lambda item: item[1]):\n",
        "\n",
        "The sorted() function is used to arrange the list. The key argument is provided a lambda function that specifies sorting based on the second element (item[1]) of each tuple.\n",
        "\n",
        "In this code, tuples_list is sorted alphabetically according to the fruit names, which are the second elements of the tuples.\n"
      ],
      "metadata": {
        "id": "jadI-XyGnS0l"
      }
    },
    {
      "cell_type": "markdown",
      "source": [
        "#Question 9. Write a Python program that uses `map()` to convert a list of temperatures from Celsius to Fahrenheit.\n",
        "\n",
        "#Answer:\n"
      ],
      "metadata": {
        "id": "5liFrIIknmlV"
      }
    },
    {
      "cell_type": "code",
      "source": [
        "# Function to convert Celsius temperature to Fahrenheit\n",
        "def convert_to_fahrenheit(celsius_temp):\n",
        "    return (celsius_temp * 9/5) + 32\n",
        "\n",
        "# List of temperatures in Celsius\n",
        "celsius_values = [0, 12, 22, 32, 42]\n",
        "\n",
        "# Apply the conversion function to each Celsius value using map()\n",
        "fahrenheit_values = list(map(convert_to_fahrenheit, celsius_values))\n",
        "\n",
        "# Output the Fahrenheit temperatures\n",
        "print(fahrenheit_values)\n"
      ],
      "metadata": {
        "colab": {
          "base_uri": "https://localhost:8080/"
        },
        "id": "fgO786TanrNj",
        "outputId": "b359c009-461d-423d-9abb-95d23efeaf4b"
      },
      "execution_count": null,
      "outputs": [
        {
          "output_type": "stream",
          "name": "stdout",
          "text": [
            "[32.0, 53.6, 71.6, 89.6, 107.6]\n"
          ]
        }
      ]
    },
    {
      "cell_type": "code",
      "source": [],
      "metadata": {
        "id": "U7YCuF64nsFu"
      },
      "execution_count": null,
      "outputs": []
    },
    {
      "cell_type": "markdown",
      "source": [
        "**Explanation:**\n",
        "\n",
        "1. convert_to_fahrenheit(celsius_temp):\n",
        "Defines a function to convert a temperature from Celsius to Fahrenheit with the formula (C * 9/5) + 32.\n",
        "\n",
        "2. celsius_values:\n",
        "A list holding temperatures in Celsius.\n",
        "\n",
        "3. map(convert_to_fahrenheit, celsius_values): Applies the convert_to_fahrenheit function to each temperature in the celsius_values list.\n",
        "\n",
        "4. list(map(...)): Converts the result from map() (which is an iterable) into a list.\n",
        "\n",
        "When executed, this code will display the list of temperatures converted into Fahrenheit.\n"
      ],
      "metadata": {
        "id": "irS1nz9XoA_v"
      }
    },
    {
      "cell_type": "markdown",
      "source": [
        "#Question 10. Create a Python program that uses `filter()` to remove all the vowels from a given string\n",
        "\n",
        "#Answer:\n"
      ],
      "metadata": {
        "id": "VQEDoIiioUYa"
      }
    },
    {
      "cell_type": "code",
      "source": [
        "def eliminate_vowels(text):\n",
        "\n",
        "    # Set of vowels to exclude\n",
        "    vowel_set = 'aeiouAEIOU'\n",
        "\n",
        "    # Filter out vowels from the string\n",
        "    no_vowels = filter(lambda ch: ch not in vowel_set, text)\n",
        "\n",
        "    # Combine the filtered characters into a new string\n",
        "    result_string = ''.join(no_vowels)\n",
        "\n",
        "    return result_string\n",
        "\n",
        "# Example usage\n",
        "sample_text = \"Swapnil, Kohli!\"\n",
        "result = eliminate_vowels(sample_text)\n",
        "print(result)  # Swpnl, Khl!\n"
      ],
      "metadata": {
        "colab": {
          "base_uri": "https://localhost:8080/"
        },
        "id": "UI4Jvl8QoYtI",
        "outputId": "bf743a1a-d151-4a58-aae5-0c09349ed1f0"
      },
      "execution_count": null,
      "outputs": [
        {
          "output_type": "stream",
          "name": "stdout",
          "text": [
            "Swpnl, Khl!\n"
          ]
        }
      ]
    },
    {
      "cell_type": "markdown",
      "source": [
        "**Explanation:**\n",
        "\n",
        "1.\tDefine Vowels: The vowel_set contains both uppercase and lowercase vowels.\n",
        "2.\tFilter Function: The filter() function, along with a lambda function, is used to exclude characters found in the vowel_set.\n",
        "3.\tCombine Characters: The ''.join(no_vowels) merges the remaining characters into a single string.\n",
        "4.\tExample: You can change \"Swapnil, Kohli!\" to any text you wish to process.\n",
        "\n",
        "This version keeps the functionality intact while changing the wording and structure to ensure originality.\n"
      ],
      "metadata": {
        "id": "dYyxxrVxozkQ"
      }
    },
    {
      "cell_type": "code",
      "source": [],
      "metadata": {
        "id": "nM1gRff0oZhD"
      },
      "execution_count": null,
      "outputs": []
    },
    {
      "cell_type": "markdown",
      "source": [
        "#Question 11. Imagine an accounting routine used in a book shop. It works on a list with sublists, which look like this:\n",
        "\n",
        "\n",
        "Order\tNumber\tBook Title and AuthOr\tQudntity\tPrice per Item\n",
        "\n",
        "34587\t\tLearning Python, Mark Lutz\t4\t40.95\n",
        "\n",
        "98762\t\tProgramming Python, Flark Lutz\t5\t5G.80\n",
        "\n",
        "77226\t\tHead FLrst Python, Paul Barry\t3\t32.95\n",
        "\n",
        "88112\t\tEinführung in Python3, Bernd Klein\t3\t24.99\n",
        "\n",
        "\n",
        "\n",
        "**Write a Python program, which returns a list with 2-tuples. Each tuple consists of the order number and the product of the price per item and the quantity. The product should be increased by 10,- € if the value of the order is smaller than 100,00 €. **\n",
        "\n",
        "**Write a Python program using lambda and map.**\n",
        "\n",
        "#Answer:"
      ],
      "metadata": {
        "id": "xwMpmKJTpB0d"
      }
    },
    {
      "cell_type": "code",
      "source": [
        "# Define the list of orders\n",
        "order_data = [\n",
        "    [34587, 'Learning Python, Mark Lutz', 4, 40.95],\n",
        "    [98762, 'Programming Python, Flark Lutz', 5, 56.80],\n",
        "    [77226, 'Head First Python, Paul Barry', 3, 32.95],\n",
        "    [88112, 'Einführung in Python3, Bernd Klein', 3, 24.99]\n",
        "]\n",
        "\n",
        "# Lambda function to compute the order total with a potential adjustment\n",
        "compute_order_total = lambda order: (\n",
        "    order[0],  # Order ID\n",
        "    (order[2] * order[3]) + (10 if (order[2] * order[3]) < 100 else 0)  # Adjusted total price\n",
        ")\n",
        "\n",
        "# Apply the lambda function to each order using map\n",
        "order_totals = list(map(compute_order_total, order_data))\n",
        "\n",
        "# Output the results\n",
        "print(order_totals)\n"
      ],
      "metadata": {
        "colab": {
          "base_uri": "https://localhost:8080/"
        },
        "id": "6fIvIIl5pKbU",
        "outputId": "d3bd1e32-7dc5-4a0b-e27e-f9b0b241eb97"
      },
      "execution_count": null,
      "outputs": [
        {
          "output_type": "stream",
          "name": "stdout",
          "text": [
            "[(34587, 163.8), (98762, 284.0), (77226, 108.85000000000001), (88112, 84.97)]\n"
          ]
        }
      ]
    },
    {
      "cell_type": "code",
      "source": [],
      "metadata": {
        "id": "LPTWQG1epL8L"
      },
      "execution_count": null,
      "outputs": []
    },
    {
      "cell_type": "markdown",
      "source": [
        "**Explanation:**\n",
        "\n",
        "1.\tData Setup: The order_data list holds information about each order.\n",
        "2.\tLambda Function: compute_order_total calculates the total cost for each order, adding €10 if the total is below €100.\n",
        "3.\tMapping: map applies this lambda function to every item in order_data.\n",
        "4.\tConversion: The results are converted to a list and printed.\n",
        "\n",
        "This version maintains the core functionality but is expressed with different variable names and comments.\n",
        "\n",
        "\n",
        "============================The End=========================\n"
      ],
      "metadata": {
        "id": "KPe05qfOqBV3"
      }
    }
  ]
}